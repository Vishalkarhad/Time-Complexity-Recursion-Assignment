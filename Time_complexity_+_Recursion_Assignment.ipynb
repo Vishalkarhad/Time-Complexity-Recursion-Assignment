{
  "nbformat": 4,
  "nbformat_minor": 0,
  "metadata": {
    "colab": {
      "provenance": []
    },
    "kernelspec": {
      "name": "python3",
      "display_name": "Python 3"
    },
    "language_info": {
      "name": "python"
    }
  },
  "cells": [
    {
      "cell_type": "markdown",
      "source": [
        "# **Find time complexity of below code blocks :**"
      ],
      "metadata": {
        "id": "24p51Ip2UnXv"
      }
    },
    {
      "cell_type": "markdown",
      "source": [
        "**Problem 1 :**\n",
        "\n",
        "**def quicksort(arr):**\n",
        "\n",
        "**if len(arr) <= 1:**\n",
        "\n",
        "**return arr**\n",
        "\n",
        "**pivot = arr[len(arr) // 2]**\n",
        "\n",
        "**left = [x for x in arr if x < pivot]**\n",
        "\n",
        "**middle = [x for x in arr if x == pivot]**\n",
        "\n",
        "**right = [x for x in arr if x > pivot]**\n",
        "\n",
        "**return quicksort(left) + middle + quicksort(right)**"
      ],
      "metadata": {
        "id": "oyl3pz_NUrCe"
      }
    },
    {
      "cell_type": "markdown",
      "source": [
        "Best Case Time Complexity:\n",
        "𝑂\n",
        "(\n",
        "𝑛\n",
        "log\n",
        "⁡\n",
        "𝑛\n",
        ")\n",
        "\n",
        "\n",
        "\n",
        "Average Case Time Complexity:\n",
        "𝑂\n",
        "(\n",
        "𝑛\n",
        "log\n",
        "⁡\n",
        "𝑛\n",
        ")\n",
        "\n",
        "\n",
        "\n",
        "Worst Case Time Complexity:\n",
        "𝑂\n",
        "(\n",
        "𝑛\n",
        "2\n",
        ")\n"
      ],
      "metadata": {
        "id": "yzLyIrkzVK5G"
      }
    },
    {
      "cell_type": "markdown",
      "source": [
        "**Problem 2 :**\n",
        "\n",
        "\n",
        "**def nested_loop_example(matrix):**\n",
        "\n",
        "**rows, cols = len(matrix), len(matrix[0])**\n",
        "\n",
        "**total = 0**\n",
        "\n",
        "**for i in range(rows):**\n",
        "\n",
        "**for j in range(cols):**\n",
        "\n",
        "**total += matrix[i][j]**\n",
        "\n",
        "**return total**"
      ],
      "metadata": {
        "id": "RWdg_qMWVwqn"
      }
    },
    {
      "cell_type": "markdown",
      "source": [
        "Time Complexity:\n",
        "𝑂\n",
        "(\n",
        "𝑛^2\n",
        ")\n"
      ],
      "metadata": {
        "id": "PdI6mpavW3vO"
      }
    },
    {
      "cell_type": "markdown",
      "source": [
        "**Problem 3 :**\n",
        "\n",
        "\n",
        "**def example_function(arr):**\n",
        "\n",
        "**result = 0**\n",
        "\n",
        "**for element in arr:**\n",
        "\n",
        "**result += element**\n",
        "\n",
        "**return result**"
      ],
      "metadata": {
        "id": "BlIVMkeJW6x2"
      }
    },
    {
      "cell_type": "markdown",
      "source": [
        "Time Complexity:\n",
        "𝑂\n",
        "(\n",
        "𝑛\n",
        ")\n"
      ],
      "metadata": {
        "id": "PNB2yNhzXVke"
      }
    },
    {
      "cell_type": "markdown",
      "source": [
        "**Problem 4 :**\n",
        "\n",
        "**def longest_increasing_subsequence(nums):**\n",
        "\n",
        "**n = len(nums)**\n",
        "\n",
        " **lis = [1] * n**\n",
        "\n",
        "**for i in range(1, n):**\n",
        "\n",
        "**for j in range(0, i):**\n",
        "\n",
        "**if nums[i] > nums[j] and lis[i] < lis[j] + 1:**\n",
        "\n",
        "**lis[i] = lis[j] + 1**\n",
        "\n",
        "**return max(lis)**"
      ],
      "metadata": {
        "id": "VvFyMSdWXoF3"
      }
    },
    {
      "cell_type": "markdown",
      "source": [
        "Time Complexity:\n",
        "𝑂\n",
        "(\n",
        "𝑛\n",
        "2\n",
        ")\n",
        "\n",
        "\n",
        "Space Complexity:\n",
        "𝑂\n",
        "(\n",
        "𝑛\n",
        ")\n"
      ],
      "metadata": {
        "id": "SMU2qDDZYLqn"
      }
    },
    {
      "cell_type": "markdown",
      "source": [
        "**Problem 5 :**\n",
        "\n",
        "**def mysterious_function(arr):**\n",
        "\n",
        "**n = len(arr)**\n",
        "\n",
        "**result = 0**\n",
        "\n",
        "**for i in range(n):**\n",
        "\n",
        "**for j in range(i, n):**\n",
        "\n",
        " **result += arr[i] * arr[j]**\n",
        "\n",
        "**return result**"
      ],
      "metadata": {
        "id": "R_JARf-RYWSu"
      }
    },
    {
      "cell_type": "markdown",
      "source": [
        "Time Complexity:\n",
        "𝑂\n",
        "(\n",
        "𝑛\n",
        "2\n",
        ")\n",
        "\n",
        "\n",
        "Space Complexity:\n",
        "𝑂\n",
        "(\n",
        "1\n",
        ")\n"
      ],
      "metadata": {
        "id": "QgKenvVmYzL_"
      }
    },
    {
      "cell_type": "markdown",
      "source": [
        "# **Solve the following problems on recursion**"
      ],
      "metadata": {
        "id": "qonaREJGY36O"
      }
    },
    {
      "cell_type": "markdown",
      "source": [
        "**Problem 6 : Sum of Digits**\n",
        "\n",
        "Write a recursive function to calculate the sum of digits of a given positive integer.\n",
        "sum_of_digits(123) -> 6"
      ],
      "metadata": {
        "id": "z5s4N0fYY6tH"
      }
    },
    {
      "cell_type": "code",
      "execution_count": 1,
      "metadata": {
        "colab": {
          "base_uri": "https://localhost:8080/"
        },
        "id": "gcocplTFURsv",
        "outputId": "150452ee-a313-4498-998e-c02c0354f7ca"
      },
      "outputs": [
        {
          "output_type": "stream",
          "name": "stdout",
          "text": [
            "6\n"
          ]
        }
      ],
      "source": [
        "def sum_of_digits(n):\n",
        "    # Base case: when the number is a single digit\n",
        "    if n < 10:\n",
        "        return n\n",
        "    # Recursive case: add the last digit and recurse on the remaining digits\n",
        "    return (n % 10) + sum_of_digits(n // 10)\n",
        "\n",
        "# Example usage:\n",
        "result = sum_of_digits(123)\n",
        "print(result)  # Output: 6\n"
      ]
    },
    {
      "cell_type": "markdown",
      "source": [
        "**Problem 7: Fibonacci Series**\n",
        "\n",
        "Write a recursive function to generate the first n numbers of the Fibonacci series.\n",
        "fibonacci_series(6) -> [0, 1, 1, 2, 3, 5]"
      ],
      "metadata": {
        "id": "xTs5HMrSZFG9"
      }
    },
    {
      "cell_type": "code",
      "source": [
        "def fibonacci(n):\n",
        "    # Base cases\n",
        "    if n <= 0:\n",
        "        return 0\n",
        "    elif n == 1:\n",
        "        return 1\n",
        "    # Recursive case\n",
        "    else:\n",
        "        return fibonacci(n - 1) + fibonacci(n - 2)\n",
        "\n",
        "def fibonacci_series(n):\n",
        "    series = []\n",
        "    for i in range(n):\n",
        "        series.append(fibonacci(i))\n",
        "    return series\n",
        "\n",
        "# Example usage:\n",
        "print(fibonacci_series(6))  # Output: [0, 1, 1, 2, 3, 5]\n"
      ],
      "metadata": {
        "colab": {
          "base_uri": "https://localhost:8080/"
        },
        "id": "C_iSt66_ZC8O",
        "outputId": "89648c63-0c90-4656-aaf8-8a19213bba7b"
      },
      "execution_count": 2,
      "outputs": [
        {
          "output_type": "stream",
          "name": "stdout",
          "text": [
            "[0, 1, 1, 2, 3, 5]\n"
          ]
        }
      ]
    },
    {
      "cell_type": "markdown",
      "source": [
        "**Problem 8 : Subset Sum**\n",
        "\n",
        "Given a set of positive integers and a target sum, write a recursive function to determine if there exists a subset\n",
        "of the integers that adds up to the target sum.\n",
        "subset_sum([3, 34, 4, 12, 5, 2], 9) -> True"
      ],
      "metadata": {
        "id": "Yc4CcxtoZQZ9"
      }
    },
    {
      "cell_type": "code",
      "source": [
        "def subset_sum(arr, target_sum):\n",
        "    # Base cases\n",
        "    if target_sum == 0:\n",
        "        return True  # Found a subset that adds up to the target sum\n",
        "    if not arr:\n",
        "        return False  # No more elements to consider and target_sum not achieved\n",
        "\n",
        "    # Take the first element and check both possibilities\n",
        "    current = arr[0]\n",
        "    rest = arr[1:]\n",
        "\n",
        "    # Include the current element in the subset\n",
        "    if current <= target_sum and subset_sum(rest, target_sum - current):\n",
        "        return True\n",
        "\n",
        "    # Exclude the current element from the subset\n",
        "    if subset_sum(rest, target_sum):\n",
        "        return True\n",
        "\n",
        "    return False\n",
        "\n",
        "# Example usage:\n",
        "print(subset_sum([3, 34, 4, 12, 5, 2], 9))  # Output: True\n"
      ],
      "metadata": {
        "colab": {
          "base_uri": "https://localhost:8080/"
        },
        "id": "Hi1wk_j0ZOr-",
        "outputId": "b164233d-057b-4769-8697-22f9c684521a"
      },
      "execution_count": 3,
      "outputs": [
        {
          "output_type": "stream",
          "name": "stdout",
          "text": [
            "True\n"
          ]
        }
      ]
    },
    {
      "cell_type": "markdown",
      "source": [
        "**Problem 9: Word Break**\n",
        "\n",
        "Given a non-empty string and a dictionary of words, write a recursive function to determine if the string can be\n",
        "segmented into a space-separated sequence of dictionary words.\n",
        "word_break( leetcode , [ leet , code ]) -> True"
      ],
      "metadata": {
        "id": "mfSbDMMRZZ5-"
      }
    },
    {
      "cell_type": "code",
      "source": [
        "def word_break(s, word_dict):\n",
        "    # Base case: empty string\n",
        "    if not s:\n",
        "        return True\n",
        "\n",
        "    # Check all prefixes of the string\n",
        "    for i in range(1, len(s) + 1):\n",
        "        prefix = s[:i]\n",
        "        if prefix in word_dict and word_break(s[i:], word_dict):\n",
        "            return True\n",
        "\n",
        "    return False\n",
        "\n",
        "# Example usage:\n",
        "print(word_break(\"leetcode\", [\"leet\", \"code\"]))  # Output: True\n"
      ],
      "metadata": {
        "colab": {
          "base_uri": "https://localhost:8080/"
        },
        "id": "UI6V4gmgZXz-",
        "outputId": "3c810c48-c8c7-47dc-9418-4e1ab0609150"
      },
      "execution_count": 4,
      "outputs": [
        {
          "output_type": "stream",
          "name": "stdout",
          "text": [
            "True\n"
          ]
        }
      ]
    },
    {
      "cell_type": "markdown",
      "source": [
        "**Problem 10 : N-Queens**\n",
        "\n",
        "Implement a recursive function to solve the N Queens problem, where you have to place N queens on an N×N\n",
        "chessboard in such a way that no two queens threaten each other.\n",
        "n_queens(4)\n",
        "[\n",
        "[\".Q..\",\n",
        "\"...Q\",\n",
        "\"Q...\",\n",
        "\"..Q.\"],\n",
        "[\"..Q.\",\n",
        "\"Q...\",\n",
        "\"...Q\",\n",
        "\".Q..\"]\n",
        "]"
      ],
      "metadata": {
        "id": "wKuOle7IZjD2"
      }
    },
    {
      "cell_type": "code",
      "source": [
        "def n_queens(n):\n",
        "    def is_safe(board, row, col):\n",
        "        # Check this column\n",
        "        for i in range(row):\n",
        "            if board[i] == col or \\\n",
        "               board[i] - i == col - row or \\\n",
        "               board[i] + i == col + row:\n",
        "                return False\n",
        "        return True\n",
        "\n",
        "    def solve(board, row):\n",
        "        if row == n:\n",
        "            # All queens are placed successfully\n",
        "            result.append([''.join('.' * c + 'Q' + '.' * (n - c - 1) for c in board)])\n",
        "            return\n",
        "\n",
        "        for col in range(n):\n",
        "            if is_safe(board, row, col):\n",
        "                board[row] = col\n",
        "                solve(board, row + 1)\n",
        "                # Backtrack\n",
        "                board[row] = -1\n",
        "\n",
        "    result = []\n",
        "    # Initialize the board\n",
        "    solve([-1] * n, 0)\n",
        "    return result\n",
        "\n",
        "# Example usage:\n",
        "solutions = n_queens(4)\n",
        "for solution in solutions:\n",
        "    for row in solution:\n",
        "        print(row)\n",
        "    print()\n"
      ],
      "metadata": {
        "colab": {
          "base_uri": "https://localhost:8080/"
        },
        "id": "-XdJAHinZgrl",
        "outputId": "b0edc7bb-f6d1-4acc-d9a0-283ad814a3c5"
      },
      "execution_count": 5,
      "outputs": [
        {
          "output_type": "stream",
          "name": "stdout",
          "text": [
            ".Q.....QQ.....Q.\n",
            "\n",
            "..Q.Q......Q.Q..\n",
            "\n"
          ]
        }
      ]
    },
    {
      "cell_type": "code",
      "source": [],
      "metadata": {
        "id": "-YRM2hF6Zo1e"
      },
      "execution_count": null,
      "outputs": []
    }
  ]
}